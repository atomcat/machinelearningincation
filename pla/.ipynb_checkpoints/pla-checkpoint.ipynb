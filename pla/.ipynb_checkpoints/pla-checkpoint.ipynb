{
 "cells": [
  {
   "cell_type": "code",
   "execution_count": 1,
   "metadata": {},
   "outputs": [
    {
     "name": "stdout",
     "output_type": "stream",
     "text": [
      "[[1.]\n",
      " [1.]\n",
      " [1.]]\n",
      "[[1.]\n",
      " [1.]\n",
      " [1.]]\n"
     ]
    }
   ],
   "source": [
    "import pandas as pd\n",
    "import numpy as np\n",
    "import matplotlib.pyplot as plt\n",
    "\n",
    "%matplotlib inline\n",
    "\n",
    "def readData(file):\n",
    "    rawdata = pd.read_csv(file)\n",
    "#     display(rawdata)\n",
    "    data = rawdata.values\n",
    "#     print(data)\n",
    "    w0 = np.ones((data.shape[0], 1))\n",
    "#     print(w0)\n",
    "#     print(np.c_[w0, data])\n",
    "    return np.c_[w0, data]\n",
    " \n",
    "# readData('data1.csv')\n",
    "\n",
    "def pla(file):\n",
    "    data = readData(file)\n",
    "    w = np.ones((data.shape[1] - 1, 1))\n",
    "    print (w)\n",
    "    size = data.shape[0]\n",
    "    y = data[:, -1]\n",
    "    X = data[:,[0,1, 2]]\n",
    "#     print(X)\n",
    "#     print (y.shape)\n",
    "    i = 0\n",
    "    while True and i < size:\n",
    "        Done = True\n",
    "        if np.sign(np.dot(X[i], w)).all() == y[i]:\n",
    "#             print(\"equal\")\n",
    "#             print(i)\n",
    "            i += 1\n",
    "        else:\n",
    "            Done = False\n",
    "            print(\"update w\")\n",
    "            print(X[i]*y[i])\n",
    "            w = w + X[i]*y[i]\n",
    "            i = 0\n",
    "        if Done:\n",
    "            break\n",
    "    return w\n",
    "        \n",
    "w = pla('data1.csv')\n"
   ]
  },
  {
   "cell_type": "code",
   "execution_count": null,
   "metadata": {
    "collapsed": true
   },
   "outputs": [],
   "source": []
  }
 ],
 "metadata": {
  "kernelspec": {
   "display_name": "Python 3",
   "language": "python",
   "name": "python3"
  },
  "language_info": {
   "codemirror_mode": {
    "name": "ipython",
    "version": 3
   },
   "file_extension": ".py",
   "mimetype": "text/x-python",
   "name": "python",
   "nbconvert_exporter": "python",
   "pygments_lexer": "ipython3",
   "version": "3.6.4"
  }
 },
 "nbformat": 4,
 "nbformat_minor": 2
}
