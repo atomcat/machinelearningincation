{
 "cells": [
  {
   "cell_type": "code",
   "execution_count": 10,
   "metadata": {},
   "outputs": [
    {
     "name": "stdout",
     "output_type": "stream",
     "text": [
      "testMat [[1. 0. 0. 0.]\n",
      " [0. 1. 0. 0.]\n",
      " [0. 0. 1. 0.]\n",
      " [0. 0. 0. 1.]]\n",
      "mat0 [[0. 1. 0. 0.]]\n",
      "mat1 [[1. 0. 0. 0.]\n",
      " [0. 0. 1. 0.]\n",
      " [0. 0. 0. 1.]]\n"
     ]
    }
   ],
   "source": [
    "from numpy import *\n",
    "class treeNode():\n",
    "    def __init__(self, feat, val, right, left):\n",
    "        featureToSplitOn = feat\n",
    "        valueOfSplit = val\n",
    "        rightBranch = right\n",
    "        leftBranch = left\n",
    "\n",
    "def loadDataSet(file):\n",
    "    dataMat = []\n",
    "    fr = open(file)\n",
    "    for line in fr.readlines():\n",
    "        curLine = line.strip().split()\n",
    "        fltLine = map(float, curLine)\n",
    "        dataMat.append(fltLine)\n",
    "    return dataMat\n",
    "\n",
    "def binSplitDataSet(dataSet, feature, value):\n",
    "    mat0 = dataSet[nonzero(dataSet[:, feature] > value)[0], :]\n",
    "    mat1 = dataSet[nonzero(dataSet[:, feature] <= value)[0], :]\n",
    "    return mat0, mat1\n",
    "\n",
    "    \n",
    "# def createTree(dataSet, leafType=regLeaf, errType=regErr, ops=(1, 4)):\n",
    "#     feat, val = chooseBestSplit(dataSet, leafType, errType, ops)\n",
    "#     if feat == None:\n",
    "#         return val\n",
    "#     retTree = {}\n",
    "#     reTree['spInd'] = feat\n",
    "#     reTree['spVal'] = val\n",
    "#     lSet, rSet = binSplitDataSet(dataSet, feat, val)\n",
    "#     retTree['left'] = createTree(lSet, leafType, errType, ops)\n",
    "#     retTree['right'] = createTree(rSet, leafType, errType, ops)\n",
    "#     return retTree\n",
    "\n",
    "testMat = mat(eye(4))\n",
    "print(\"testMat\", testMat)\n",
    "mat0, mat1 = binSplitDataSet(testMat, 1, 0.5)\n",
    "print(\"mat0\", mat0)\n",
    "print(\"mat1\", mat1)"
   ]
  },
  {
   "cell_type": "code",
   "execution_count": 11,
   "metadata": {},
   "outputs": [],
   "source": [
    "def regLeaf(dataSet):\n",
    "    return mean(dataSet[:, -1])\n",
    "\n",
    "def regErr(dataSet):\n",
    "    return var(dataSet[:, -1]) * shape(dataSet)[0]\n",
    "\n",
    "def chooseBestSplit(dataSet, leafType=regLeaf, errType=regErr, ops=(1, 4)):\n",
    "    tolS = ops[0]\n",
    "    tolN = ops[1]\n",
    "    if len(set(dataSet[:, -1].T.tolist()[0])) == 1:\n",
    "        return None, leafType(dataSet)\n",
    "    m, n = shape(dataSet)\n",
    "    S = errType(dataSet)\n",
    "    bestS = inf\n",
    "    bestIndex = 0\n",
    "    bestValue = 0\n",
    "    for featureIndex in range(n - 1):\n",
    "        for splitVal in set(dataSet[:, featIndex]):\n",
    "            mat0, mat1 = binSplitDataSet(dataSet, featIndex, splitVal)\n",
    "            if (shape(mat0)[0] < tolN) or (shape(mat1)[0] < tolN):\n",
    "                continue\n",
    "            newS = errType(mat0) + errType(mat1)\n",
    "            if newS < bestS:\n",
    "                bestIndex = featureIndex\n",
    "                bestValue = splitVal\n",
    "                bestS = newS\n",
    "    if (S - bestS) < tolS:\n",
    "        return None, leafType(dataSet)\n",
    "    mat0, mat1 = binSplitDataSet(dataSet, bestIndex, bestValue)\n",
    "    if (shape(mat0)[0] < tolN) or (shape(mat1)[0] < tolN):\n",
    "        return None, leafType(dataSet)\n",
    "    return bestIndex, bestValue"
   ]
  },
  {
   "cell_type": "code",
   "execution_count": null,
   "metadata": {},
   "outputs": [],
   "source": [
    "def isTree(obj):\n",
    "    return (type(obj).__name__ == 'dict')\n",
    "\n",
    "def getMean(tree):\n",
    "    if isTree(tree['right']):\n",
    "        tree['right'] = getMean(tree['right'])\n",
    "    if isTree(tree['left']):\n",
    "        tree['left'] = getMean(tree['left'])\n",
    "        \n",
    "    return (tree['left'] + tree['right']) / 2.0\n",
    "\n",
    "def prune(tree, testData)"
   ]
  }
 ],
 "metadata": {
  "kernelspec": {
   "display_name": "Python 3",
   "language": "python",
   "name": "python3"
  },
  "language_info": {
   "codemirror_mode": {
    "name": "ipython",
    "version": 3
   },
   "file_extension": ".py",
   "mimetype": "text/x-python",
   "name": "python",
   "nbconvert_exporter": "python",
   "pygments_lexer": "ipython3",
   "version": "3.6.4"
  }
 },
 "nbformat": 4,
 "nbformat_minor": 2
}
