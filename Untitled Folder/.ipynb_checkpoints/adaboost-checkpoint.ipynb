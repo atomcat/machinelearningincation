{
 "cells": [
  {
   "cell_type": "code",
   "execution_count": 2,
   "metadata": {},
   "outputs": [
    {
     "data": {
      "text/plain": [
       "(matrix([[1. , 2.1],\n",
       "         [2. , 1.1],\n",
       "         [1.3, 1. ],\n",
       "         [1. , 1. ],\n",
       "         [2. , 1. ]]), [1.0, 1.0, -1.0, -1.0, 1.0])"
      ]
     },
     "execution_count": 2,
     "metadata": {},
     "output_type": "execute_result"
    }
   ],
   "source": [
    "import numpy as np\n",
    "\n",
    "def loadSimpleData():\n",
    "    data = np.matrix([[1., 2.1], \n",
    "                   [2., 1.1],\n",
    "                   [1.3, 1.], \n",
    "                   [1., 1.], \n",
    "                   [2., 1.]])\n",
    "    classLabels = [1.0, 1.0, -1.0, -1.0, 1.0]\n",
    "    return data, classLabels\n",
    "\n",
    "loadSimpleData()"
   ]
  },
  {
   "cell_type": "code",
   "execution_count": 3,
   "metadata": {},
   "outputs": [
    {
     "ename": "NameError",
     "evalue": "name 'mat' is not defined",
     "output_type": "error",
     "traceback": [
      "\u001b[1;31m---------------------------------------------------------------------------\u001b[0m",
      "\u001b[1;31mNameError\u001b[0m                                 Traceback (most recent call last)",
      "\u001b[1;32m<ipython-input-3-cb82bca16220>\u001b[0m in \u001b[0;36m<module>\u001b[1;34m()\u001b[0m\n\u001b[0;32m     35\u001b[0m     \u001b[1;32mreturn\u001b[0m \u001b[0mbestStump\u001b[0m\u001b[1;33m,\u001b[0m \u001b[0mminError\u001b[0m\u001b[1;33m,\u001b[0m \u001b[0mbestClassEst\u001b[0m\u001b[1;33m\u001b[0m\u001b[0m\n\u001b[0;32m     36\u001b[0m \u001b[1;33m\u001b[0m\u001b[0m\n\u001b[1;32m---> 37\u001b[1;33m \u001b[0mD\u001b[0m \u001b[1;33m=\u001b[0m \u001b[0mmat\u001b[0m\u001b[1;33m(\u001b[0m\u001b[0mnp\u001b[0m\u001b[1;33m.\u001b[0m\u001b[0mones\u001b[0m\u001b[1;33m(\u001b[0m\u001b[1;36m5\u001b[0m\u001b[1;33m,\u001b[0m \u001b[1;36m1\u001b[0m\u001b[1;33m)\u001b[0m\u001b[1;33m)\u001b[0m \u001b[1;33m/\u001b[0m \u001b[1;36m5\u001b[0m\u001b[1;33m\u001b[0m\u001b[0m\n\u001b[0m\u001b[0;32m     38\u001b[0m \u001b[0mbuildStump\u001b[0m\u001b[1;33m(\u001b[0m\u001b[0mdata\u001b[0m\u001b[1;33m,\u001b[0m \u001b[0mclassLabels\u001b[0m\u001b[1;33m,\u001b[0m \u001b[0mD\u001b[0m\u001b[1;33m)\u001b[0m\u001b[1;33m\u001b[0m\u001b[0m\n",
      "\u001b[1;31mNameError\u001b[0m: name 'mat' is not defined"
     ]
    }
   ],
   "source": [
    "def stumpClassify(data, dimen, threshold, threshIneq):\n",
    "    retArray = np.ones((data.shape[0], 1))\n",
    "    if threshIneq == 'lt':\n",
    "        retArray[data[:, dimen] <= threshold] = -1.0\n",
    "    else:\n",
    "        retArray[data[:, dimen] > threshold] = 1.0\n",
    "        \n",
    "    return retArray\n",
    "\n",
    "def buildStump(dataArr, classLables, D):\n",
    "    m, n = dataArr.shape\n",
    "    numSteps = 10.0\n",
    "    bestStump = {}\n",
    "    bestClassEst = np.zeros((m, 1))\n",
    "    minError = inf\n",
    "    for i in range(n):\n",
    "        rangeMin = dataArr[:, i].min()\n",
    "        rangeMax = dataArr[:, i].max()\n",
    "        stepSize = (rangeMax - rangemin) / numSteps\n",
    "        for j in range(-1, int(numSteps) + 1):\n",
    "            for inequal in ['lt', 'gt']:\n",
    "                theshold = (rangeMin + float(j) * stepSize)\n",
    "                predictedVal = stumpClassify(dataMatrix, i, threshold, inqual)\n",
    "                errArr = np.ones((m, 1))\n",
    "                errArr[predictedVals == labelMatrix] = 0\n",
    "                weightedError = D.T*errArr\n",
    "                if weightedError < minError:\n",
    "                    minError = weightedError\n",
    "                    bestclassEst = predictedVals.copy()\n",
    "                    bestStump['dim'] = i\n",
    "                    bestStump['thresh'] = threshVal\n",
    "                    bestStump['ineq'] = inequal\n",
    "    return bestStump, minError, bestClassEst\n",
    "\n",
    "D = mat(np.ones(5, 1)) / 5\n",
    "buildStump(data, classLabels, D)"
   ]
  },
  {
   "cell_type": "code",
   "execution_count": null,
   "metadata": {},
   "outputs": [],
   "source": []
  }
 ],
 "metadata": {
  "kernelspec": {
   "display_name": "Python 3",
   "language": "python",
   "name": "python3"
  },
  "language_info": {
   "codemirror_mode": {
    "name": "ipython",
    "version": 3
   },
   "file_extension": ".py",
   "mimetype": "text/x-python",
   "name": "python",
   "nbconvert_exporter": "python",
   "pygments_lexer": "ipython3",
   "version": "3.6.4"
  }
 },
 "nbformat": 4,
 "nbformat_minor": 2
}
