{
 "cells": [
  {
   "cell_type": "markdown",
   "metadata": {},
   "source": [
    "贝叶斯分类：对于给定数据，判断其属于哪个类别。通过计算所有p（Ci|x,y)，概率最大对应类别就是分类结果。计算过程中用到贝叶斯规则，将计算转化为P（x,y|Ci),p(Ci)计算。\n",
    "之所以称为朴素：即假设所有属性概率上条件独立"
   ]
  },
  {
   "cell_type": "code",
   "execution_count": 16,
   "metadata": {},
   "outputs": [
    {
     "name": "stdout",
     "output_type": "stream",
     "text": [
      "['love', 'my', 'dalmation']\n",
      "classified as 0 \n",
      "the word : tupid is not in my Vocabulary!\n",
      "['tupid', 'garbage']\n",
      "classified as 0 \n"
     ]
    },
    {
     "name": "stderr",
     "output_type": "stream",
     "text": [
      "C:\\Users\\wupin\\AppData\\Roaming\\Python\\Python36\\site-packages\\ipykernel_launcher.py:49: RuntimeWarning: divide by zero encountered in log\n",
      "C:\\Users\\wupin\\AppData\\Roaming\\Python\\Python36\\site-packages\\ipykernel_launcher.py:50: RuntimeWarning: divide by zero encountered in log\n",
      "C:\\Users\\wupin\\AppData\\Roaming\\Python\\Python36\\site-packages\\ipykernel_launcher.py:54: RuntimeWarning: invalid value encountered in multiply\n",
      "C:\\Users\\wupin\\AppData\\Roaming\\Python\\Python36\\site-packages\\ipykernel_launcher.py:55: RuntimeWarning: invalid value encountered in multiply\n"
     ]
    }
   ],
   "source": [
    "import numpy as np\n",
    "\n",
    "def loadDataSet():\n",
    "    postingList=[['my', 'dog', 'has', 'flea', 'problems', 'help', 'please'],\n",
    "                 ['maybe', 'not', 'take', 'him', 'to', 'dog', 'park', 'stupid'],\n",
    "                 ['my', 'dalmation', 'is', 'so', 'cute', 'I', 'love', 'him'],\n",
    "                 ['stop', 'posting', 'stupid', 'worthless', 'garbage'],\n",
    "                 ['mr', 'licks', 'ate', 'my', 'steak', 'how', 'to', 'stop', 'him'],\n",
    "                 ['quit', 'buying', 'worthless', 'dog', 'food', 'stupid']]\n",
    "    classVec = [0, 1, 0, 1, 0, 1] #1 is abuse , 0 not\n",
    "    return postingList, classVec\n",
    "\n",
    "def createVocabList(dataSet):\n",
    "    vocabSet = set([])\n",
    "    for document in dataSet:\n",
    "        vocabSet = vocabSet | set(document)\n",
    "        \n",
    "    return list(vocabSet)\n",
    " \n",
    "def setOfWords2Vec(vocabList, inputSet):\n",
    "    returnVec = [0]*len(vocabList)\n",
    "    for word in inputSet:\n",
    "        if word in vocabList:\n",
    "            returnVec[vocabList.index(word)] = 1\n",
    "        else:\n",
    "            print (\"the word : %s is not in my Vocabulary!\" % word)\n",
    "    return returnVec\n",
    "\n",
    "a, _= loadDataSet()\n",
    "b = createVocabList(a)\n",
    "\n",
    "def trainNaiveBayes(trainMatrix, trainCategory):\n",
    "    numTrainDocs = len(trainMatrix)\n",
    "    numWords = len(trainMatrix[0])\n",
    "    pAbusive = sum(trainCategory) / float(numTrainDocs)\n",
    "    p0Num = np.zeros(numWords)\n",
    "    p1Num = np.zeros(numWords)\n",
    "    p0Denom = 0.0\n",
    "    p1Denom = 0.0\n",
    "    \n",
    "    for i in range(numTrainDocs):\n",
    "        if trainCategory[i] == 1:\n",
    "            p1Num += trainMatrix[i]\n",
    "            p1Denom += sum(trainMatrix[i])\n",
    "        else:\n",
    "            p0Num += trainMatrix[i]\n",
    "            p0Denom += sum(trainMatrix[i])\n",
    "      \n",
    "    p1Vect = np.log(p1Num / p1Denom)\n",
    "    p0Vect = np.log(p0Num / p0Denom)\n",
    "    return p0Vect, p1Vect, pAbusive\n",
    "\n",
    "def classifyNB(vect2Classify, p0Vec, p1Vec, pClass1):\n",
    "    p1 = sum(vect2Classify * p1Vec) + np.log(pClass1)\n",
    "    p0 = sum(vect2Classify * p0Vec) + np.log(1 - pClass1)\n",
    "    \n",
    "    if p1 > p0:\n",
    "        return 1\n",
    "    else:\n",
    "        return 0\n",
    "    \n",
    "def testNB():\n",
    "    listPosts, listClasses = loadDataSet()\n",
    "    myVocabList = createVocabList(listPosts)\n",
    "    trainMat = []\n",
    "    for postinDoc in listPosts:\n",
    "        trainMat.append(setOfWords2Vec(myVocabList, postinDoc))\n",
    "    p0V, p1V, pAb = trainNaiveBayes(np.array(trainMat), np.array(listClasses))\n",
    "    testEntry = ['love', 'my', 'dalmation']\n",
    "    thisDoc = np.array(setOfWords2Vec(myVocabList, testEntry))\n",
    "    print(testEntry)\n",
    "    print('classified as %d '% classifyNB(thisDoc, p0V, p1V, pAb))\n",
    "    testEntry = ['tupid', 'garbage']\n",
    "    thisDoc = np.array(setOfWords2Vec(myVocabList, testEntry))\n",
    "    print(testEntry)\n",
    "    print('classified as %d '% classifyNB(thisDoc, p0V, p1V, pAb))\n",
    "    \n",
    "testNB()"
   ]
  },
  {
   "cell_type": "code",
   "execution_count": null,
   "metadata": {},
   "outputs": [],
   "source": []
  }
 ],
 "metadata": {
  "kernelspec": {
   "display_name": "Python 3",
   "language": "python",
   "name": "python3"
  },
  "language_info": {
   "codemirror_mode": {
    "name": "ipython",
    "version": 3
   },
   "file_extension": ".py",
   "mimetype": "text/x-python",
   "name": "python",
   "nbconvert_exporter": "python",
   "pygments_lexer": "ipython3",
   "version": "3.6.4"
  }
 },
 "nbformat": 4,
 "nbformat_minor": 2
}
