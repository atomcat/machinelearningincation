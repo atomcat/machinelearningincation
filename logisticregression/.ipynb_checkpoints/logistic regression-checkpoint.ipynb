{
 "cells": [
  {
   "cell_type": "code",
   "execution_count": 11,
   "metadata": {},
   "outputs": [
    {
     "ename": "TypeError",
     "evalue": "plotBestFit() missing 1 required positional argument: 'w'",
     "output_type": "error",
     "traceback": [
      "\u001b[1;31m---------------------------------------------------------------------------\u001b[0m",
      "\u001b[1;31mTypeError\u001b[0m                                 Traceback (most recent call last)",
      "\u001b[1;32m<ipython-input-11-ba519e544913>\u001b[0m in \u001b[0;36m<module>\u001b[1;34m()\u001b[0m\n\u001b[0;32m     44\u001b[0m     \u001b[0mplt\u001b[0m\u001b[1;33m.\u001b[0m\u001b[0mshow\u001b[0m\u001b[1;33m(\u001b[0m\u001b[1;33m)\u001b[0m\u001b[1;33m\u001b[0m\u001b[0m\n\u001b[0;32m     45\u001b[0m \u001b[1;33m\u001b[0m\u001b[0m\n\u001b[1;32m---> 46\u001b[1;33m \u001b[0mplotBestFit\u001b[0m\u001b[1;33m(\u001b[0m\u001b[1;33m)\u001b[0m\u001b[1;33m\u001b[0m\u001b[0m\n\u001b[0m",
      "\u001b[1;31mTypeError\u001b[0m: plotBestFit() missing 1 required positional argument: 'w'"
     ]
    }
   ],
   "source": [
    "import numpy as np\n",
    "import pandas as pd\n",
    "\n",
    "def loadData(file):\n",
    "    data = np.array(pd.read_csv(file))\n",
    "    return data\n",
    "#     n,m = data.shape\n",
    "#     y = data[:, -1]\n",
    "#     X = data[:, :-1]\n",
    "#     return X, y, n, m-1\n",
    "\n",
    "def sigmoid(x):\n",
    "    return 1.0 / (1 + np.exp(-x))\n",
    "\n",
    "def gradAscent(file):\n",
    "    X, y, n, m = loadData(file)\n",
    "    print (y)\n",
    "    print (X)\n",
    "    print (data.shape)\n",
    "    alpha = 0.001\n",
    "    epoch = 500\n",
    "    w = np.ones((m-1,1))\n",
    "    for k in range(epoch):\n",
    "        h = sigmoid(np.dot(X, w))\n",
    "        error = (y - h)\n",
    "        w = w + alpha * np.dot(X.T, error)\n",
    "    return w\n",
    "\n",
    "def plotBestFit(w):\n",
    "    import matplotlib.pyplot as plt\n",
    "    data = loadData('../data/data.csv')\n",
    "    pos = data[np.where(data[:,-1] == 1)]\n",
    "    neg = data[np.where(data[:,-1] == 0)]\n",
    "    \n",
    "    fig = plt.figure()\n",
    "    ax = fig.add_subplot(111)\n",
    "    ax.scatter(pos[:,0], pos[:,1], s=30, c='red', marker='s')\n",
    "    ax.scatter(neg[:,0], neg[:,1], s=30, c='g', marker='s')\n",
    "    x = np.arrange(-3.0, 3.0, 0.1)\n",
    "    y = (-w[0]-w[1]*x)/w[2]\n",
    "    ax.plot(x,y)\n",
    "    plt.xlabel('X1')\n",
    "    plt.ylabel('X2')\n",
    "    plt.show()\n",
    "\n",
    "def stocGradAscent1(data, epoch=150):\n",
    "    m, n = data.shape\n",
    "    w = np.ones((n-1, 1))\n",
    "    for j in range(epoch):\n",
    "        dataIndex = range(m)\n",
    "        for i in range(m):\n",
    "            alpha = 4 / (1.0 +j + i) + 0.01\n",
    "            randIndex = int(np.random.uniform(0, len(dataIndex)))\n",
    "            h = sigmoid(np.dot(data[randIndex, :-1], w))\n",
    "            error = data[randomIndex, -1] - h\n",
    "            w = w + alpha * np.dot(data[randIndex, :-1], error)\n",
    "            del(dataIndex[randIndex])\n",
    "    return w\n",
    "    \n",
    "plotBestFit()"
   ]
  },
  {
   "cell_type": "code",
   "execution_count": null,
   "metadata": {},
   "outputs": [],
   "source": []
  }
 ],
 "metadata": {
  "kernelspec": {
   "display_name": "Python 3",
   "language": "python",
   "name": "python3"
  },
  "language_info": {
   "codemirror_mode": {
    "name": "ipython",
    "version": 3
   },
   "file_extension": ".py",
   "mimetype": "text/x-python",
   "name": "python",
   "nbconvert_exporter": "python",
   "pygments_lexer": "ipython3",
   "version": "3.6.4"
  }
 },
 "nbformat": 4,
 "nbformat_minor": 2
}
