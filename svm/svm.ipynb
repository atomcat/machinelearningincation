{
 "cells": [
  {
   "cell_type": "code",
   "execution_count": null,
   "metadata": {},
   "outputs": [],
   "source": [
    "def loadDataSet(filename):\n",
    "    \"\"\"\n",
    "    load data and labels from filename\n",
    "    Arguments:\n",
    "        filename--dataset location\n",
    "    Return:\n",
    "        list of data and label\n",
    "    \"\"\"\n",
    "    #init empyt list\n",
    "    data = []\n",
    "    label = []\n",
    "    fr = open(filename)\n",
    "    #read data line by line, and split it, then store them to list data and label\n",
    "    for line in fr.readlines():\n",
    "        lineArr = line.strip().split()\n",
    "        data.append([float(lineArr[0]), float(lineArr[1])])\n",
    "        label.append(float(lineArr[2]))\n",
    "    return data, label\n",
    "\n",
    "def selectJrand(i, m):\n",
    "    \"\"\"\n",
    "    select a random number between (0, m), not equal to i\n",
    "    \"\"\"\n",
    "    j = i\n",
    "    while (j == i):\n",
    "        j = int(random.uniform(0, m))\n",
    "    return j\n",
    "\n",
    "def clipAlpha(aj, H, L):\n",
    "    \"\"\"\n",
    "    clip alpha between [H,L]\n",
    "    \"\"\"\n",
    "    if aj > H:\n",
    "        aj = H\n",
    "    if L > aj:\n",
    "        aj = L\n",
    "    return aj\n",
    "\n",
    "def smoSimple(data, labels, C, toler, epoches):\n",
    "    data = np.array(data)\n",
    "    labels = np.array(labels)\n",
    "    b = 0\n",
    "    m, n = data.shape\n",
    "    alphas = np.zeros((m, 1))\n",
    "    iter = 0\n",
    "    while (iter < epoches):\n",
    "        alphaPairsChanged = 0\n",
    "        for i in range(m):\n",
    "            fXi = flaot(np.multiply(alphas, labels))\n",
    "        "
   ]
  }
 ],
 "metadata": {
  "kernelspec": {
   "display_name": "Python 3",
   "language": "python",
   "name": "python3"
  },
  "language_info": {
   "codemirror_mode": {
    "name": "ipython",
    "version": 3
   },
   "file_extension": ".py",
   "mimetype": "text/x-python",
   "name": "python",
   "nbconvert_exporter": "python",
   "pygments_lexer": "ipython3",
   "version": "3.6.4"
  }
 },
 "nbformat": 4,
 "nbformat_minor": 2
}
