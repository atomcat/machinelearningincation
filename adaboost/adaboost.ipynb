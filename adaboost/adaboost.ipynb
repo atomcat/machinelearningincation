{
 "cells": [
  {
   "cell_type": "code",
   "execution_count": 45,
   "metadata": {},
   "outputs": [],
   "source": [
    "from numpy import *\n",
    "\n",
    "def loadSimpleData():\n",
    "    #构建data矩阵\n",
    "    datMat = matrix([[ 1. ,  2.1],\n",
    "        [ 2. ,  1.1],\n",
    "        [ 1.3,  1. ],\n",
    "        [ 1. ,  1. ],\n",
    "        [ 2. ,  1. ]])\n",
    "    #分类结果list\n",
    "    classLabels = [1.0, 1.0, -1.0, -1.0, 1.0]\n",
    "    return datMat,classLabels\n",
    "\n",
    "def loadDataSet(file):\n",
    "    numFeature = len(open(file).readline().split('\\t'))\n",
    "    dataMat = []\n",
    "    labelMat = []\n",
    "    fr = open(file)\n",
    "    for line in fr.readlines():\n",
    "        lineArr = []\n",
    "        currLine = line.strip().split()\n",
    "        for i in range(numFeature - 1):\n",
    "            lineArr.append(float(currLine[i]))\n",
    "        dataMat.append(lineArr)\n",
    "        labelMat.append(float(currLine[-1]))\n",
    "    return dataMat, labelMat"
   ]
  },
  {
   "cell_type": "code",
   "execution_count": 46,
   "metadata": {},
   "outputs": [],
   "source": [
    "def stumpClassify(dataMatrix,dimen,threshVal,threshIneq):\n",
    "    #initial all ones vector\n",
    "    retArray = ones((shape(dataMatrix)[0],1))\n",
    "    \n",
    "    #update retArray according to threshIneq and theshVal\n",
    "    if threshIneq == 'lt':\n",
    "        retArray[dataMatrix[:,dimen] <= threshVal] = -1.0\n",
    "    else:\n",
    "        retArray[dataMatrix[:,dimen] > threshVal] = -1.0\n",
    "        \n",
    "    return retArray\n",
    "    \n",
    "\n",
    "def buildStump(dataArr,classLabels,D):\n",
    "    dataMatrix = mat(dataArr)\n",
    "    labelMat = mat(classLabels).T\n",
    "    m,n = shape(dataMatrix)\n",
    "    numSteps = 10.0\n",
    "    bestStump = {}\n",
    "    bestClassEst = mat(zeros((m,1)))\n",
    "    minError = inf #init error sum, to +infinity\n",
    "    \n",
    "    #loop all features\n",
    "    for i in range(n):\n",
    "        rangeMin = dataMatrix[:,i].min()\n",
    "        rangeMax = dataMatrix[:,i].max()\n",
    "        stepSize = (rangeMax - rangeMin) / numSteps\n",
    "        #loop over all range in current dimension\n",
    "        for j in range(-1,int(numSteps)+1):\n",
    "            for inequal in ['lt', 'gt']: #go over less than and greater than\n",
    "                threshVal = (rangeMin + float(j) * stepSize)\n",
    "                predictedVals = stumpClassify(dataMatrix,i,threshVal,inequal)#call stump classify with i, j, lessThan\n",
    "                errArr = mat(ones((m,1)))\n",
    "                #if predicted values equals to labels in labelMat, no error\n",
    "                errArr[predictedVals == labelMat] = 0\n",
    "                weightedError = D.T*errArr  #calc total error multiplied by D\n",
    "                #print(\"split: dim %d, thresh %.2f, thresh ineqal: %s, the weighted error is %.3f\" % \n",
    "                #     (i, threshVal, inequal, weightedError))\n",
    "                if weightedError < minError:\n",
    "                    minError = weightedError\n",
    "                    bestClassEst = predictedVals.copy()\n",
    "                    bestStump['dim'] = i\n",
    "                    bestStump['thresh'] = threshVal\n",
    "                    bestStump['ineq'] = inequal\n",
    "\n",
    "    return bestStump,minError,bestClassEst"
   ]
  },
  {
   "cell_type": "code",
   "execution_count": 47,
   "metadata": {},
   "outputs": [],
   "source": [
    "def adaBoostTrainDS(dataArr,classLabels,numIt=40):\n",
    "    weakClassArr = []\n",
    "    m = shape(dataArr)[0]\n",
    "    D = mat(ones((m,1)) / m)\n",
    "    aggClassEst = mat(zeros((m, 1)))\n",
    "    for i in range(numIt):\n",
    "        bestStump, error, classEst = buildStump(dataArr, classLabels, D)\n",
    "        alpha = float(0.5 * log((1 - error) / max(error, 1e-16)))\n",
    "        bestStump['alpha'] = alpha\n",
    "        weakClassArr.append(bestStump)\n",
    "        \n",
    "        #update Dt+1\n",
    "        expon = multiply(-1 * alpha * mat(classLabels).T, classEst)\n",
    "        D = multiply(D, exp(expon))\n",
    "        D = D / D.sum()\n",
    "        \n",
    "        #aggregate weak classifiers\n",
    "        aggClassEst += alpha * classEst\n",
    "        \n",
    "        #calculate error, stop loop when error equals to zero\n",
    "        aggErrors = multiply(sign(aggClassEst) != mat(classLabels).T, ones((m, 1)))\n",
    "        errorRate = aggErrors.sum() / m\n",
    "#         print(\"errorRate:\", errorRate)\n",
    "        if errorRate == 0.0:\n",
    "            break\n",
    "                      \n",
    "    return weakClassArr, errorRate\n",
    "            "
   ]
  },
  {
   "cell_type": "code",
   "execution_count": 48,
   "metadata": {},
   "outputs": [],
   "source": [
    "dataMat, classLabels = loadSimpleData()\n",
    "classifierArray,_ = adaBoostTrainDS(dataMat, classLabels, 9)"
   ]
  },
  {
   "cell_type": "code",
   "execution_count": 49,
   "metadata": {},
   "outputs": [],
   "source": [
    "def adaClassify(dataToClass, classifierArr):\n",
    "    dataMatrix = mat(dataToClass)\n",
    "    m = dataMatrix.shape[0]\n",
    "    aggClassEst = mat(zeros((m, 1)))\n",
    "    for i in range(len(classifierArr)):\n",
    "        classEst = stumpClassify(dataMatrix, \n",
    "                                 classifierArr[i]['dim'], \n",
    "                                 classifierArr[i]['thresh'], \n",
    "                                 classifierArr[i]['ineq'])\n",
    "        #aggregate all weak classifier\n",
    "        aggClassEst += classifierArr[i]['alpha']*classEst\n",
    "\n",
    "    return sign(aggClassEst)"
   ]
  },
  {
   "cell_type": "code",
   "execution_count": 50,
   "metadata": {},
   "outputs": [
    {
     "data": {
      "text/plain": [
       "matrix([[ 1.],\n",
       "        [-1.]])"
      ]
     },
     "execution_count": 50,
     "metadata": {},
     "output_type": "execute_result"
    }
   ],
   "source": [
    "adaClassify([[5, 5], [0, 0]], classifierArray)"
   ]
  },
  {
   "cell_type": "code",
   "execution_count": 51,
   "metadata": {},
   "outputs": [],
   "source": [
    "datArr, labelArr = loadDataSet('horseColicTraining2.txt')\n",
    "classifierArray,_ = adaBoostTrainDS(datArr, labelArr, 10)\n",
    "\n",
    "testArr, testLabelArr = loadDataSet('horseColicTest2.txt')\n",
    "prediction10 = adaClassify(testArr, classifierArray)"
   ]
  },
  {
   "cell_type": "code",
   "execution_count": 54,
   "metadata": {},
   "outputs": [],
   "source": [
    "def verify(n):\n",
    "    classifierArray,error = adaBoostTrainDS(datArr, labelArr, n)\n",
    "    prediction = adaClassify(testArr, classifierArray)\n",
    "    errArr = mat(ones((67, 1)))\n",
    "    testErr = errArr[prediction != mat(testLabelArr).T].sum() / 67\n",
    "    print(\"training error:\", error)\n",
    "    print(\"testErr %d: \"% (n), testErr)"
   ]
  },
  {
   "cell_type": "code",
   "execution_count": 55,
   "metadata": {},
   "outputs": [
    {
     "name": "stdout",
     "output_type": "stream",
     "text": [
      "training error: 0.23076923076923078\n",
      "testErr 10:  0.23880597014925373\n",
      "training error: 0.18729096989966554\n",
      "testErr 50:  0.208955223880597\n",
      "training error: 0.19063545150501673\n",
      "testErr 100:  0.22388059701492538\n",
      "training error: 0.15719063545150502\n",
      "testErr 500:  0.2537313432835821\n",
      "training error: 0.14046822742474915\n",
      "testErr 1000:  0.31343283582089554\n",
      "training error: 0.11036789297658862\n",
      "testErr 10000:  0.3283582089552239\n"
     ]
    }
   ],
   "source": [
    "verify(10)\n",
    "verify(50)\n",
    "verify(100)\n",
    "verify(500)\n",
    "verify(1000)\n",
    "verify(10000)"
   ]
  },
  {
   "cell_type": "code",
   "execution_count": null,
   "metadata": {},
   "outputs": [],
   "source": [
    "def plotROC(predStrengths, classLabels):\n",
    "    import matplotlib.pyplot as plt\n",
    "    curr = (1.0, 1.0)\n",
    "    ySum = 0.0\n",
    "    numPosClass = sum(array(classLabels)==1.0)\n",
    "    yStep = 1 / float(numPosClass)\n",
    "    xStep = 1 / float(len(classLabels) - numPosClass)\n",
    "    storedIndices = predStrengths.argsort()\n",
    "    fig = plt.figure()\n",
    "    fig.clf()\n",
    "    ax = plt.subplot(111)\n",
    "    for index in sortedIndices.toList()[0]:\n",
    "        if classLabels[index] == 1.0:\n",
    "            delX = 0\n",
    "            delY = yStep\n",
    "        else:\n",
    "            delX = xStep\n",
    "            delY = 0\n",
    "            ySum += cur[1]\n",
    "        ax.plot([cur[0], cur[0]-delX], [cur[1], cur[1]-delY], c='b')\n",
    "        cur = (cur[0]-delX, cur[1]-delY)\n",
    "    ax.plot([0, 1],[0,1], 'b--')\n",
    "    plt.xlabel('False Positive Rate')\n",
    "    plt.ylabel('True Positive Rate')\n",
    "    plt.title('ROC curve for AdaBoost Horse Colic Detection System')\n",
    "    ax.axis([0, 1, 0, 1])\n",
    "    plt.show()\n",
    "    print(\"the Area Under the Curve is :\", ySum * xStep)\n",
    "    \n",
    "    "
   ]
  },
  {
   "cell_type": "code",
   "execution_count": null,
   "metadata": {},
   "outputs": [],
   "source": []
  }
 ],
 "metadata": {
  "kernelspec": {
   "display_name": "Python 3",
   "language": "python",
   "name": "python3"
  },
  "language_info": {
   "codemirror_mode": {
    "name": "ipython",
    "version": 3
   },
   "file_extension": ".py",
   "mimetype": "text/x-python",
   "name": "python",
   "nbconvert_exporter": "python",
   "pygments_lexer": "ipython3",
   "version": "3.6.4"
  }
 },
 "nbformat": 4,
 "nbformat_minor": 2
}
